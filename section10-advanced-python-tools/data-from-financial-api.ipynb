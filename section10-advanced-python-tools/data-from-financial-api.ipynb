{
 "cells": [
  {
   "cell_type": "code",
   "execution_count": null,
   "metadata": {},
   "outputs": [],
   "source": [
    "import numpy as np\n",
    "import pandas as pd\n",
    "from pandas_datareader import data as wb"
   ]
  },
  {
   "cell_type": "code",
   "execution_count": null,
   "metadata": {},
   "outputs": [],
   "source": [
    "# Generate a Series data type\n",
    "# Series data type: like a dictionary with the column 0 filled with incrementing integer\n",
    "ser = pd.Series(np.random.random(5), name=\"An Example for Series data\")\n",
    "ser\n",
    "print(\"ser[2]=\" + str(ser[2]))"
   ]
  },
  {
   "cell_type": "code",
   "execution_count": null,
   "metadata": {},
   "outputs": [],
   "source": [
    "##########################################################################"
   ]
  },
  {
   "cell_type": "code",
   "execution_count": null,
   "metadata": {},
   "outputs": [],
   "source": [
    "# Generate a Data Frame type\n",
    "# Data Frame type: like a serires data type, but with multiple columns\n",
    "# data_source = ['yahoo', 'iex']\n",
    "ac_stock = wb.DataReader('AC.TO', data_source='yahoo', start='2010-01-01')\n",
    "ac_stock"
   ]
  },
  {
   "cell_type": "code",
   "execution_count": null,
   "metadata": {},
   "outputs": [],
   "source": [
    "# Check data information\n",
    "ac_stock.info()"
   ]
  },
  {
   "cell_type": "code",
   "execution_count": null,
   "metadata": {},
   "outputs": [],
   "source": [
    "# Check head lines\n",
    "ac_stock.head(5)"
   ]
  },
  {
   "cell_type": "code",
   "execution_count": null,
   "metadata": {},
   "outputs": [],
   "source": [
    "# Check tail lines\n",
    "ac_stock.tail(5)"
   ]
  },
  {
   "cell_type": "code",
   "execution_count": null,
   "metadata": {},
   "outputs": [],
   "source": [
    "# Generate close prices of five stocks\n",
    "tickers = ['XOP', 'XLE', 'XOM', 'CVX', 'OXY']\n",
    "close_prices = pd.DataFrame()\n",
    "for t in tickers:\n",
    "    close_prices[t] = wb.DataReader(t, data_source='yahoo', start='2020-01-01')['Close']\n",
    "\n",
    "close_prices.tail(5)"
   ]
  },
  {
   "cell_type": "code",
   "execution_count": null,
   "metadata": {},
   "outputs": [],
   "source": [
    "##########################################################################"
   ]
  },
  {
   "cell_type": "code",
   "execution_count": null,
   "metadata": {},
   "outputs": [],
   "source": [
    "# Get Quandl data\n",
    "import quandl\n",
    "qdl_data = quandl.get(\"FRED/GDP\")"
   ]
  },
  {
   "cell_type": "code",
   "execution_count": null,
   "metadata": {},
   "outputs": [],
   "source": [
    "qdl_data.tail(5)"
   ]
  },
  {
   "cell_type": "code",
   "execution_count": null,
   "metadata": {},
   "outputs": [],
   "source": [
    "# Export data to a .csv and a .xlsx files\n",
    "qdl_data.to_csv('./qdl_data.csv')\n",
    "qdl_data.to_excel('./qdl_data.xlsx')"
   ]
  },
  {
   "cell_type": "code",
   "execution_count": null,
   "metadata": {},
   "outputs": [],
   "source": []
  }
 ],
 "metadata": {
  "kernelspec": {
   "display_name": "Python 3",
   "language": "python",
   "name": "python3"
  },
  "language_info": {
   "codemirror_mode": {
    "name": "ipython",
    "version": 3
   },
   "file_extension": ".py",
   "mimetype": "text/x-python",
   "name": "python",
   "nbconvert_exporter": "python",
   "pygments_lexer": "ipython3",
   "version": "3.7.6"
  }
 },
 "nbformat": 4,
 "nbformat_minor": 4
}
