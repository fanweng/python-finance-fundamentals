{
 "cells": [
  {
   "cell_type": "code",
   "execution_count": null,
   "metadata": {},
   "outputs": [],
   "source": [
    "import pandas as pd"
   ]
  },
  {
   "cell_type": "code",
   "execution_count": null,
   "metadata": {},
   "outputs": [],
   "source": [
    "# Read a .csv data file\n",
    "csv_data = pd.read_csv('./qdl_data.csv')\n",
    "csv_data.head(5)"
   ]
  },
  {
   "cell_type": "code",
   "execution_count": null,
   "metadata": {},
   "outputs": [],
   "source": [
    "# Read a .xlsx data file\n",
    "xlsx_data = pd.read_excel('./qdl_data.xlsx')\n",
    "xlsx_data.head(5)"
   ]
  },
  {
   "cell_type": "code",
   "execution_count": null,
   "metadata": {},
   "outputs": [],
   "source": [
    "# Use 'Date' as the index column, instead of default integer index\n",
    "xlsx_data = pd.read_excel('./qdl_data.xlsx', index_col='Date')\n",
    "xlsx_data.head(5)"
   ]
  },
  {
   "cell_type": "code",
   "execution_count": null,
   "metadata": {},
   "outputs": [],
   "source": [
    "# Another method to set 'Date' as the index column\n",
    "# set_index() will just DISPLAY the data with the indicated index\n",
    "# Therefore, we have to reassign variable to get rid of the default index\n",
    "xlsx_data = pd.read_excel('./qdl_data.xlsx')\n",
    "xlsx_data = xlsx_data.set_index('Date')\n",
    "xlsx_data.head(5)"
   ]
  },
  {
   "cell_type": "code",
   "execution_count": null,
   "metadata": {},
   "outputs": [],
   "source": []
  }
 ],
 "metadata": {
  "kernelspec": {
   "display_name": "Python 3",
   "language": "python",
   "name": "python3"
  },
  "language_info": {
   "codemirror_mode": {
    "name": "ipython",
    "version": 3
   },
   "file_extension": ".py",
   "mimetype": "text/x-python",
   "name": "python",
   "nbconvert_exporter": "python",
   "pygments_lexer": "ipython3",
   "version": "3.7.6"
  }
 },
 "nbformat": 4,
 "nbformat_minor": 4
}
