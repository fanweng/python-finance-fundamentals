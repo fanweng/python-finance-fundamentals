{
 "cells": [
  {
   "cell_type": "markdown",
   "metadata": {},
   "source": [
    "# Statistical Measures to Quantify Risk\n",
    "\n",
    "- Variance (S^2)\n",
    "\n",
    "Measures the dispersion of a set of data points around the mean\n",
    "\n",
    "S^2 = sum[(x_n - x_mean)^2] / (N - 1)\n",
    "\n",
    "- Standard deviation (S)\n",
    "\n",
    "S = sqrt(S^2)"
   ]
  },
  {
   "cell_type": "code",
   "execution_count": null,
   "metadata": {},
   "outputs": [],
   "source": [
    "import numpy as np\n",
    "import pandas as pd\n",
    "from pandas_datareader import data as wb\n",
    "import matplotlib.pyplot as plt"
   ]
  },
  {
   "cell_type": "markdown",
   "metadata": {},
   "source": [
    "# Compare risks of two stocks"
   ]
  },
  {
   "cell_type": "code",
   "execution_count": null,
   "metadata": {},
   "outputs": [],
   "source": [
    "tickers = ['PG', 'BEI.DE']\n",
    "# tickers = ['XOM', 'CVX']\n",
    "\n",
    "stock_data = pd.DataFrame()\n",
    "\n",
    "for t in tickers:\n",
    "    stock_data[t] = wb.DataReader(t, data_source='yahoo', start='2007-01-01')['Adj Close']"
   ]
  },
  {
   "cell_type": "code",
   "execution_count": null,
   "metadata": {},
   "outputs": [],
   "source": [
    "stock_data.tail()"
   ]
  },
  {
   "cell_type": "code",
   "execution_count": null,
   "metadata": {},
   "outputs": [],
   "source": [
    "stock_ret = np.log(stock_data / stock_data.shift(1))\n",
    "stock_ret.tail()"
   ]
  },
  {
   "cell_type": "code",
   "execution_count": null,
   "metadata": {},
   "outputs": [],
   "source": [
    "# We can calculate the mean and std deviation one stock at a time\n",
    "# e.g. stock_ret['PG'].mean(), stock_ret['PG'].std()\n",
    "# But double bracket allows to calculate two stocks together\n",
    "\n",
    "# Single bracket with output a Panda Series\n",
    "# Double bracket will output a Panda DataFrame"
   ]
  },
  {
   "cell_type": "code",
   "execution_count": null,
   "metadata": {},
   "outputs": [],
   "source": [
    "stock_ret[['PG', 'BEI.DE']].mean()"
   ]
  },
  {
   "cell_type": "code",
   "execution_count": null,
   "metadata": {},
   "outputs": [],
   "source": [
    "stock_ret[['PG', 'BEI.DE']].mean() * 250"
   ]
  },
  {
   "cell_type": "code",
   "execution_count": null,
   "metadata": {},
   "outputs": [],
   "source": [
    "stock_ret[['PG', 'BEI.DE']].var()"
   ]
  },
  {
   "cell_type": "code",
   "execution_count": null,
   "metadata": {},
   "outputs": [],
   "source": [
    "stock_ret[['PG', 'BEI.DE']].var() * 250"
   ]
  },
  {
   "cell_type": "code",
   "execution_count": null,
   "metadata": {},
   "outputs": [],
   "source": [
    "stock_ret[['PG', 'BEI.DE']].std()"
   ]
  },
  {
   "cell_type": "code",
   "execution_count": null,
   "metadata": {},
   "outputs": [],
   "source": [
    "stock_ret[['PG', 'BEI.DE']].std() * (250**0.5)"
   ]
  },
  {
   "cell_type": "markdown",
   "metadata": {},
   "source": [
    "# Calculate the covariance of two stocks\n",
    "\n",
    "- Correlation\n",
    "\n",
    "Perfect correlation, imperfect correlation, no correlation\n",
    "\n",
    "Positive/Negative correlation\n",
    "\n",
    "- Covariance\n",
    "\n",
    "- To diversify the portfolio"
   ]
  },
  {
   "cell_type": "code",
   "execution_count": null,
   "metadata": {},
   "outputs": [],
   "source": [
    "# Calculate the covariance matrix\n",
    "cov_matrix = stock_ret.cov()\n",
    "cov_matrix"
   ]
  },
  {
   "cell_type": "code",
   "execution_count": null,
   "metadata": {},
   "outputs": [],
   "source": [
    "cov_matrix_annual = stock_ret.cov() * 250\n",
    "cov_matrix_annual"
   ]
  },
  {
   "cell_type": "code",
   "execution_count": null,
   "metadata": {},
   "outputs": [],
   "source": [
    "# Note that correlation of return is DIFFERENT from correlation of price\n",
    "# Our investor should focus on the return of portfolio\n",
    "# It's no use of annual correlation\n",
    "corr_matrix = stock_ret.corr()\n",
    "corr_matrix"
   ]
  },
  {
   "cell_type": "markdown",
   "metadata": {},
   "source": [
    "# Calculate the portfolio risk"
   ]
  },
  {
   "cell_type": "code",
   "execution_count": null,
   "metadata": {},
   "outputs": [],
   "source": [
    "# Give a weight scheme\n",
    "weights = np.array([0.5, 0.5])"
   ]
  },
  {
   "cell_type": "code",
   "execution_count": null,
   "metadata": {},
   "outputs": [],
   "source": [
    "# (a_matrix . B_matrix)^2 = a_matrix.transposed() . B_matrix . a_matrix\n",
    "\n",
    "# Portfolio variance\n",
    "# (w1var1 + w2var2 + ...)^2\n",
    "port_var = np.dot(weights.T, np.dot(stock_ret.cov() * 250, weights))\n",
    "port_var"
   ]
  },
  {
   "cell_type": "code",
   "execution_count": null,
   "metadata": {},
   "outputs": [],
   "source": [
    "# Portfolio volatility (std deviation)\n",
    "port_vol = port_var ** 0.5\n",
    "print(str(round(port_vol, 3) * 100) + '%')"
   ]
  },
  {
   "cell_type": "markdown",
   "metadata": {},
   "source": [
    "# Systematic vs. Unsystematic Risk\n",
    "\n",
    "Two types of portfolio risks:\n",
    "\n",
    "- Systematic (non-diversifiable) risk\n",
    "\n",
    "Cannot be eliminated, e.g. economy recession, wars, nature disasters, etc.\n",
    "\n",
    "- Unsystematic (diversifiable, idiosyncratic) risk\n",
    "\n",
    "Driven by company-specific events, can be eliminated if investing in non-correlated assets. "
   ]
  },
  {
   "cell_type": "code",
   "execution_count": null,
   "metadata": {},
   "outputs": [],
   "source": [
    "# Diversifiable Risk = Portfolio Variance - Weighted Annual Variances\n",
    "PG_var_annual = stock_ret['PG'].var() * 250\n",
    "BEI_var_annual = stock_ret['BEI.DE'].var() * 250\n",
    "div_risk = port_var - (weights[0] ** 2) * PG_var_annual - (weights[1] ** 2) * BEI_var_annual\n",
    "\n",
    "print(str(round(div_risk, 3) * 100) + '%')"
   ]
  },
  {
   "cell_type": "code",
   "execution_count": null,
   "metadata": {},
   "outputs": [],
   "source": [
    "# Non-diversifiable Risk = Portfolio Variance - Diversifiable Risk\n",
    "# i.e. Non-diversifiable Risk = Weighted Annual Variances\n",
    "non_div_risk = port_var - div_risk\n",
    "non_div_risk"
   ]
  }
 ],
 "metadata": {
  "kernelspec": {
   "display_name": "Python 3",
   "language": "python",
   "name": "python3"
  },
  "language_info": {
   "codemirror_mode": {
    "name": "ipython",
    "version": 3
   },
   "file_extension": ".py",
   "mimetype": "text/x-python",
   "name": "python",
   "nbconvert_exporter": "python",
   "pygments_lexer": "ipython3",
   "version": "3.7.6"
  }
 },
 "nbformat": 4,
 "nbformat_minor": 4
}
